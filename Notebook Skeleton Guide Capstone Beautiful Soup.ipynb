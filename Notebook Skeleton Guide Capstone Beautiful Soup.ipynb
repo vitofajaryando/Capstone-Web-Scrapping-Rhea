{
 "cells": [
  {
   "cell_type": "markdown",
   "metadata": {},
   "source": [
    "# Capstone Webscrapping using BeautifulSoup\n",
    "\n",
    "This notebook contains guidances & tasks on the data processing for the application\n",
    "\n",
    "## background\n",
    "\n",
    "At this project we try to scrap Ethereum Historical Data from Coingecko website. CoinGecko provides a fundamental analysis of the crypto market. In addition to tracking price, volume and market capitalisation, CoinGecko tracks community growth, open-source code development, major events and on-chain metrics. We will try to scrap this sites for educational purpose and capstone project for Algoritma Data Science Course only.\n",
    "\n",
    "A lot of you might ask why we need to scrap this data from the sites while it already have a good enough visualisation. Let's say we have task to make a forecast on Indonesia's inflation rate. To do that we need to have the data, and scrapping is a good way to collect the data we don't have from public. \n",
    "\n",
    "We will scrap 2 points from this sites. One is inflation Date and Volume is measures month over month change in the price of goods and services. measures year over year (last 12 montha) change in the price of goods. \n",
    "\n",
    "## Requesting the Data and Creating a BeautifulSoup\n",
    "\n",
    "Let's begin with requesting the web from the site with `get` method."
   ]
  },
  {
   "cell_type": "code",
   "execution_count": 1,
   "metadata": {
    "ExecuteTime": {
     "end_time": "2022-04-14T12:48:45.254140Z",
     "start_time": "2022-04-14T12:48:44.168135Z"
    }
   },
   "outputs": [],
   "source": [
    "import requests\n",
    "\n",
    "url_get = requests.get('https://www.coingecko.com/en/coins/ethereum/historical_data/usd?start_date=2020-01-01&end_date=2021-06-30#panel')"
   ]
  },
  {
   "cell_type": "markdown",
   "metadata": {},
   "source": [
    "To visualize what exactly you get from the `request.get`, we can use .content so ee what we exactly get, in here i slice it so it won't make our screen full of the html we get from the page. You can delete the slicing if you want to see what we fully get."
   ]
  },
  {
   "cell_type": "code",
   "execution_count": 2,
   "metadata": {
    "ExecuteTime": {
     "end_time": "2022-04-14T12:48:45.300620Z",
     "start_time": "2022-04-14T12:48:45.259513Z"
    }
   },
   "outputs": [
    {
     "data": {
      "text/plain": [
       "b'!DOCTYPE html>\\n<html lang=\"en\">\\n<head>\\n<script async defer src=\"https://www.googleoptimize.com/optimize.js?id=GTM-W3CD992\"></script>\\n<meta charset=\"utf-8\">\\n<meta http-equiv=\"X-UA-Compatible\" content=\"IE=edge\">\\n<meta name=\"viewport\" content=\"width=device-width, initial-scale=1.0\">\\n<link rel=\"shortcut icon\" href=\"/favicon.ico\">\\n<link type=\"application/opensearchdescription+xml\" rel=\"search\" href=\"/OpensearchDescription.xml\" />\\n<title>Ethereum USD Historical Data | CoinGecko</title>\\n<meta name=\"de'"
      ]
     },
     "execution_count": 2,
     "metadata": {},
     "output_type": "execute_result"
    }
   ],
   "source": [
    "url_get.content[1:500]"
   ]
  },
  {
   "cell_type": "markdown",
   "metadata": {},
   "source": [
    "As we can see we get a very unstructured and complex html, which actually contains the codes needed to show the webpages on your web browser. But we as human still confused what and where we can use that piece of code, so here where we use the beautifulsoup. Beautiful soup class will result a beautifulsoup object. Beautiful Soup transforms a complex HTML document into a complex tree of Python objects. \n",
    "\n",
    "Let's make Beautiful soup object and feel free to explore the object here."
   ]
  },
  {
   "cell_type": "code",
   "execution_count": 3,
   "metadata": {
    "ExecuteTime": {
     "end_time": "2022-04-14T12:48:46.025553Z",
     "start_time": "2022-04-14T12:48:45.306502Z"
    }
   },
   "outputs": [],
   "source": [
    "from bs4 import BeautifulSoup \n",
    "\n",
    "soup = BeautifulSoup(url_get.content,\"html.parser\")"
   ]
  },
  {
   "cell_type": "markdown",
   "metadata": {},
   "source": [
    "## Finding the right key to scrap the data & Extracting the right information"
   ]
  },
  {
   "cell_type": "markdown",
   "metadata": {},
   "source": [
    "Find the key and put the key into the `.find()` Put all the exploring the right key at this cell. menggunakan `soup.find` dan mengambil class 'tbody' untuk mengambil data yang ada di dalaman tabel "
   ]
  },
  {
   "cell_type": "code",
   "execution_count": 4,
   "metadata": {
    "ExecuteTime": {
     "end_time": "2022-04-14T12:48:46.088383Z",
     "start_time": "2022-04-14T12:48:46.030943Z"
    }
   },
   "outputs": [
    {
     "name": "stdout",
     "output_type": "stream",
     "text": [
      "tbody>\n",
      " <tr>\n",
      "  <th class=\"font-semibold text-center\" scope=\"row\">\n",
      "   2021-06-30\n",
      "  </th>\n",
      "  <td class=\"text-center\">\n",
      "   $253,607,549,372\n",
      "  </td>\n",
      "  <td class=\"text-center\">\n",
      "   $27,149,143,847\n",
      "  </td>\n",
      "  <td class=\"text-center\">\n",
      "   $2,169.40\n",
      "  </td>\n",
      "  <td class=\"text-center\">\n",
      "   N/A\n",
      "  </td>\n",
      " </tr>\n",
      " <tr>\n",
      "  <th class=\"font-semibold text-center\" scope=\"row\">\n",
      "   2021-06-29\n",
      "  </th>\n",
      "  <td class=\"text-center\">\n",
      "   $243,040,539,437\n",
      "  </td>\n",
      "  <td class=\"text-center\">\n",
      "   $30,629,329,806\n",
      "  </td>\n",
      "  <td class=\"te\n"
     ]
    }
   ],
   "source": [
    "table = soup.find('tbody')\n",
    "print(table.prettify()[1:500])"
   ]
  },
  {
   "cell_type": "markdown",
   "metadata": {},
   "source": [
    "Finding row length."
   ]
  },
  {
   "cell_type": "code",
   "execution_count": 5,
   "metadata": {
    "ExecuteTime": {
     "end_time": "2022-04-14T12:48:46.119302Z",
     "start_time": "2022-04-14T12:48:46.095575Z"
    }
   },
   "outputs": [
    {
     "data": {
      "text/plain": [
       "60"
      ]
     },
     "execution_count": 5,
     "metadata": {},
     "output_type": "execute_result"
    }
   ],
   "source": [
    "row = table.findAll('tr')\n",
    "row_length = len(row)\n",
    "row_length"
   ]
  },
  {
   "cell_type": "markdown",
   "metadata": {},
   "source": [
    "untuk mengambil `date` pada tabel menggunakan `table.find_all('th')` dan untuk mengambil data volume menggunakan `table.find_all('td', attrs={'class':'text-center'})` dan menggunakan index subsetting `[4*i+1]` untuk mengambil kolom volume yang berada di kolom index `1` dan mengambil series yang index nya selalu looping di posisi ke `4`"
   ]
  },
  {
   "cell_type": "code",
   "execution_count": 6,
   "metadata": {
    "ExecuteTime": {
     "end_time": "2022-04-14T12:48:46.604960Z",
     "start_time": "2022-04-14T12:48:46.127494Z"
    }
   },
   "outputs": [
    {
     "data": {
      "text/plain": [
       "[('2021-06-30', '27149143847'),\n",
       " ('2021-06-29', '30629329806'),\n",
       " ('2021-06-28', '24316408028'),\n",
       " ('2021-06-27', '24249510321'),\n",
       " ('2021-06-26', '25981381067'),\n",
       " ('2021-06-25', '22447489242'),\n",
       " ('2021-06-24', '28098744045'),\n",
       " ('2021-06-23', '38755019937'),\n",
       " ('2021-06-22', '39499960408'),\n",
       " ('2021-06-21', '26235850447'),\n",
       " ('2021-06-20', '20456963375'),\n",
       " ('2021-06-19', '26204484921'),\n",
       " ('2021-06-18', '25708624827'),\n",
       " ('2021-06-17', '26150320395'),\n",
       " ('2021-06-16', '26803957680'),\n",
       " ('2021-06-15', '28128172338'),\n",
       " ('2021-06-14', '29382118964'),\n",
       " ('2021-06-13', '28235882062'),\n",
       " ('2021-06-12', '26751786966'),\n",
       " ('2021-06-11', '33075957437'),\n",
       " ('2021-06-10', '43973432438'),\n",
       " ('2021-06-09', '48344195674'),\n",
       " ('2021-06-08', '37385872210'),\n",
       " ('2021-06-07', '29050162249'),\n",
       " ('2021-06-06', '34731979705'),\n",
       " ('2021-06-05', '39996583175'),\n",
       " ('2021-06-04', '38104663185'),\n",
       " ('2021-06-03', '39148856525'),\n",
       " ('2021-06-02', '39898648753'),\n",
       " ('2021-06-01', '44445830388'),\n",
       " ('2021-05-31', '37392021394'),\n",
       " ('2021-05-30', '47141249182'),\n",
       " ('2021-05-29', '49493519120'),\n",
       " ('2021-05-28', '44070236220'),\n",
       " ('2021-05-27', '53115222705'),\n",
       " ('2021-05-26', '92468701274'),\n",
       " ('2021-05-25', '73496058831'),\n",
       " ('2021-05-24', '77839858614'),\n",
       " ('2021-05-23', '102524751568'),\n",
       " ('2021-05-22', '115000901892'),\n",
       " ('2021-05-21', '92538167828'),\n",
       " ('2021-05-20', '117905041184'),\n",
       " ('2021-05-19', '59160464538'),\n",
       " ('2021-05-18', '75100584776'),\n",
       " ('2021-05-17', '67531308124'),\n",
       " ('2021-05-16', '58150860876'),\n",
       " ('2021-05-15', '63587729060'),\n",
       " ('2021-05-14', '97383442023'),\n",
       " ('2021-05-13', '78772032255'),\n",
       " ('2021-05-12', '67869198116'),\n",
       " ('2021-05-11', '80827215918'),\n",
       " ('2021-05-10', '61625657297'),\n",
       " ('2021-05-09', '60174921874'),\n",
       " ('2021-05-08', '44980768421'),\n",
       " ('2021-05-07', '50430169753'),\n",
       " ('2021-05-06', '63552342594'),\n",
       " ('2021-05-05', '78437235046'),\n",
       " ('2021-05-04', '64192650586'),\n",
       " ('2021-05-03', '35727432416'),\n",
       " ('2021-05-02', '36721647718')]"
      ]
     },
     "execution_count": 6,
     "metadata": {},
     "output_type": "execute_result"
    }
   ],
   "source": [
    "temp = [] #initiating a tuple\n",
    "\n",
    "for i in range(0, row_length):\n",
    "    \n",
    "    #get date \n",
    "    period = table.find_all('th')[i].text\n",
    "         \n",
    "    #get volume\n",
    "    volume = table.find_all('td', attrs={'class':'text-center'})[4*i+1].text.replace('$','').replace(',','')#replace $ sign and ,\n",
    "    volume = volume.strip() #to remove excess white space\n",
    "    \n",
    "    temp.append((period,volume)) \n",
    "    \n",
    "temp"
   ]
  },
  {
   "cell_type": "code",
   "execution_count": 7,
   "metadata": {
    "ExecuteTime": {
     "end_time": "2022-04-14T12:48:46.620075Z",
     "start_time": "2022-04-14T12:48:46.609105Z"
    }
   },
   "outputs": [],
   "source": [
    "temp = temp[::-1]"
   ]
  },
  {
   "cell_type": "markdown",
   "metadata": {},
   "source": [
    "## Creating data frame & Data wrangling"
   ]
  },
  {
   "cell_type": "markdown",
   "metadata": {},
   "source": [
    "Put the array into dataframe"
   ]
  },
  {
   "cell_type": "code",
   "execution_count": 8,
   "metadata": {
    "ExecuteTime": {
     "end_time": "2022-04-14T12:48:48.144985Z",
     "start_time": "2022-04-14T12:48:46.632046Z"
    }
   },
   "outputs": [
    {
     "data": {
      "text/html": [
       "<div>\n",
       "<style scoped>\n",
       "    .dataframe tbody tr th:only-of-type {\n",
       "        vertical-align: middle;\n",
       "    }\n",
       "\n",
       "    .dataframe tbody tr th {\n",
       "        vertical-align: top;\n",
       "    }\n",
       "\n",
       "    .dataframe thead th {\n",
       "        text-align: right;\n",
       "    }\n",
       "</style>\n",
       "<table border=\"1\" class=\"dataframe\">\n",
       "  <thead>\n",
       "    <tr style=\"text-align: right;\">\n",
       "      <th></th>\n",
       "      <th>period</th>\n",
       "      <th>volume</th>\n",
       "    </tr>\n",
       "  </thead>\n",
       "  <tbody>\n",
       "    <tr>\n",
       "      <th>0</th>\n",
       "      <td>2021-05-02</td>\n",
       "      <td>36721647718</td>\n",
       "    </tr>\n",
       "    <tr>\n",
       "      <th>1</th>\n",
       "      <td>2021-05-03</td>\n",
       "      <td>35727432416</td>\n",
       "    </tr>\n",
       "    <tr>\n",
       "      <th>2</th>\n",
       "      <td>2021-05-04</td>\n",
       "      <td>64192650586</td>\n",
       "    </tr>\n",
       "    <tr>\n",
       "      <th>3</th>\n",
       "      <td>2021-05-05</td>\n",
       "      <td>78437235046</td>\n",
       "    </tr>\n",
       "    <tr>\n",
       "      <th>4</th>\n",
       "      <td>2021-05-06</td>\n",
       "      <td>63552342594</td>\n",
       "    </tr>\n",
       "  </tbody>\n",
       "</table>\n",
       "</div>"
      ],
      "text/plain": [
       "       period       volume\n",
       "0  2021-05-02  36721647718\n",
       "1  2021-05-03  35727432416\n",
       "2  2021-05-04  64192650586\n",
       "3  2021-05-05  78437235046\n",
       "4  2021-05-06  63552342594"
      ]
     },
     "execution_count": 8,
     "metadata": {},
     "output_type": "execute_result"
    }
   ],
   "source": [
    "import pandas as pd\n",
    "\n",
    "df = pd.DataFrame(temp, columns = ('period','volume'))\n",
    "df.head()"
   ]
  },
  {
   "cell_type": "code",
   "execution_count": 9,
   "metadata": {
    "ExecuteTime": {
     "end_time": "2022-04-14T12:48:48.176412Z",
     "start_time": "2022-04-14T12:48:48.149304Z"
    }
   },
   "outputs": [
    {
     "data": {
      "text/plain": [
       "period    object\n",
       "volume    object\n",
       "dtype: object"
      ]
     },
     "execution_count": 9,
     "metadata": {},
     "output_type": "execute_result"
    }
   ],
   "source": [
    "df.dtypes"
   ]
  },
  {
   "cell_type": "markdown",
   "metadata": {},
   "source": [
    "Memeriksa type data dan mengubah type data sesuai dengan kebutuhan proses, menggunakan `astype`,   mengubah data type `object` pada data frame `df`, `volume` menjadi `float64` dan `period` menjadi `datetime64`"
   ]
  },
  {
   "cell_type": "code",
   "execution_count": 10,
   "metadata": {
    "ExecuteTime": {
     "end_time": "2022-04-14T12:48:48.268158Z",
     "start_time": "2022-04-14T12:48:48.183212Z"
    }
   },
   "outputs": [
    {
     "data": {
      "text/plain": [
       "period    datetime64[ns]\n",
       "volume           float64\n",
       "dtype: object"
      ]
     },
     "execution_count": 10,
     "metadata": {},
     "output_type": "execute_result"
    }
   ],
   "source": [
    "df['volume'] = df['volume'].astype('float64')\n",
    "df['period'] = df['period'].astype('datetime64')\n",
    "df.dtypes\n"
   ]
  },
  {
   "cell_type": "code",
   "execution_count": 11,
   "metadata": {
    "ExecuteTime": {
     "end_time": "2022-04-14T12:48:48.284058Z",
     "start_time": "2022-04-14T12:48:48.272089Z"
    }
   },
   "outputs": [],
   "source": [
    "df = df.set_index('period')"
   ]
  },
  {
   "cell_type": "markdown",
   "metadata": {},
   "source": [
    "menjadikan `period` sebagai index untuk memudahkan pembacaan saat di visualisasikan ke sebuat graph"
   ]
  },
  {
   "cell_type": "markdown",
   "metadata": {},
   "source": []
  },
  {
   "cell_type": "markdown",
   "metadata": {},
   "source": [
    "### Implementing your webscrapping to the flask dashboard\n",
    "\n",
    "- Copy paste all of your web scrapping process to the desired position on the `app.py`\n",
    "- Changing the title of the dasboard at `index.html`"
   ]
  },
  {
   "cell_type": "markdown",
   "metadata": {},
   "source": [
    "## Finishing This Notebook with Your Analysis and Conclusion\n",
    "\n",
    "First you can do start with making the data visualisation. "
   ]
  },
  {
   "cell_type": "code",
   "execution_count": 12,
   "metadata": {
    "ExecuteTime": {
     "end_time": "2022-04-14T12:48:51.466269Z",
     "start_time": "2022-04-14T12:48:48.288049Z"
    }
   },
   "outputs": [
    {
     "data": {
      "text/plain": [
       "<AxesSubplot:xlabel='period'>"
      ]
     },
     "execution_count": 12,
     "metadata": {},
     "output_type": "execute_result"
    },
    {
     "data": {
      "image/png": "[encoded data removed]",
      "text/plain": [
       "<Figure size 720x720 with 1 Axes>"
      ]
     },
     "metadata": {
      "needs_background": "light"
     },
     "output_type": "display_data"
    }
   ],
   "source": [
    "df.plot(figsize = (10,10))"
   ]
  },
  {
   "cell_type": "markdown",
   "metadata": {},
   "source": [
    "# Analysis\n",
    "from data we scrapping from CoinGecko.com, we find there are many changes from 2020-2021 in volume ETH (Ethereum) Transaction. The most volume transaction ETH happened in january 2021, but we see on graph volume decreased after that and back bounce back on may and june. so we had conclusion the most volume on January 2021 although there is a decrease but it rises again in May and June, and from that on 2021 volume transaction ETH is on the rise in the market."
   ]
  },
  {
   "cell_type": "markdown",
   "metadata": {},
   "source": [
    "### Extra Challange\n",
    "\n",
    "This will be not included to the scoring. \n",
    "\n",
    "- You can create additional analysis from the data.\n",
    "- Implement it to the dashboard with at `app.py` dan `index.html`."
   ]
  }
 ],
 "metadata": {
  "kernelspec": {
   "display_name": "rhea_da",
   "language": "python",
   "name": "rhea_da"
  },
  "language_info": {
   "codemirror_mode": {
    "name": "ipython",
    "version": 3
   },
   "file_extension": ".py",
   "mimetype": "text/x-python",
   "name": "python",
   "nbconvert_exporter": "python",
   "pygments_lexer": "ipython3",
   "version": "3.9.7"
  }
 },
 "nbformat": 4,
 "nbformat_minor": 2
}
